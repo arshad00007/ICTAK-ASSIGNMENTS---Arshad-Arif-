{
 "cells": [
  {
   "cell_type": "code",
   "execution_count": 3,
   "id": "30dd3128",
   "metadata": {},
   "outputs": [],
   "source": [
    "import pandas as pd"
   ]
  },
  {
   "cell_type": "code",
   "execution_count": 5,
   "id": "9634248f",
   "metadata": {},
   "outputs": [
    {
     "data": {
      "text/html": [
       "<div>\n",
       "<style scoped>\n",
       "    .dataframe tbody tr th:only-of-type {\n",
       "        vertical-align: middle;\n",
       "    }\n",
       "\n",
       "    .dataframe tbody tr th {\n",
       "        vertical-align: top;\n",
       "    }\n",
       "\n",
       "    .dataframe thead th {\n",
       "        text-align: right;\n",
       "    }\n",
       "</style>\n",
       "<table border=\"1\" class=\"dataframe\">\n",
       "  <thead>\n",
       "    <tr style=\"text-align: right;\">\n",
       "      <th></th>\n",
       "      <th>gender</th>\n",
       "      <th>race/ethnicity</th>\n",
       "      <th>parental level of education</th>\n",
       "      <th>lunch</th>\n",
       "      <th>test preparation course</th>\n",
       "      <th>math score</th>\n",
       "      <th>reading score</th>\n",
       "      <th>writing score</th>\n",
       "    </tr>\n",
       "  </thead>\n",
       "  <tbody>\n",
       "    <tr>\n",
       "      <th>0</th>\n",
       "      <td>female</td>\n",
       "      <td>group C</td>\n",
       "      <td>some high school</td>\n",
       "      <td>free/reduced</td>\n",
       "      <td>none</td>\n",
       "      <td>0</td>\n",
       "      <td>17</td>\n",
       "      <td>10</td>\n",
       "    </tr>\n",
       "    <tr>\n",
       "      <th>1</th>\n",
       "      <td>female</td>\n",
       "      <td>group B</td>\n",
       "      <td>high school</td>\n",
       "      <td>free/reduced</td>\n",
       "      <td>none</td>\n",
       "      <td>8</td>\n",
       "      <td>24</td>\n",
       "      <td>23</td>\n",
       "    </tr>\n",
       "    <tr>\n",
       "      <th>2</th>\n",
       "      <td>female</td>\n",
       "      <td>group B</td>\n",
       "      <td>some high school</td>\n",
       "      <td>free/reduced</td>\n",
       "      <td>none</td>\n",
       "      <td>18</td>\n",
       "      <td>32</td>\n",
       "      <td>28</td>\n",
       "    </tr>\n",
       "    <tr>\n",
       "      <th>3</th>\n",
       "      <td>female</td>\n",
       "      <td>group B</td>\n",
       "      <td>some college</td>\n",
       "      <td>standard</td>\n",
       "      <td>none</td>\n",
       "      <td>11</td>\n",
       "      <td>38</td>\n",
       "      <td>32</td>\n",
       "    </tr>\n",
       "    <tr>\n",
       "      <th>4</th>\n",
       "      <td>female</td>\n",
       "      <td>group C</td>\n",
       "      <td>some college</td>\n",
       "      <td>free/reduced</td>\n",
       "      <td>none</td>\n",
       "      <td>22</td>\n",
       "      <td>39</td>\n",
       "      <td>33</td>\n",
       "    </tr>\n",
       "  </tbody>\n",
       "</table>\n",
       "</div>"
      ],
      "text/plain": [
       "   gender race/ethnicity parental level of education         lunch  \\\n",
       "0  female        group C            some high school  free/reduced   \n",
       "1  female        group B                 high school  free/reduced   \n",
       "2  female        group B            some high school  free/reduced   \n",
       "3  female        group B                some college      standard   \n",
       "4  female        group C                some college  free/reduced   \n",
       "\n",
       "  test preparation course  math score  reading score  writing score  \n",
       "0                    none           0             17             10  \n",
       "1                    none           8             24             23  \n",
       "2                    none          18             32             28  \n",
       "3                    none          11             38             32  \n",
       "4                    none          22             39             33  "
      ]
     },
     "execution_count": 5,
     "metadata": {},
     "output_type": "execute_result"
    }
   ],
   "source": [
    "url = 'https://github.com/arshad00007/ICTAK-ASSIGNMENTS---Arshad-Arif-/raw/main/StudentsPerformance.csv'\n",
    "data = pd.read_csv(url)\n",
    "data.head()"
   ]
  },
  {
   "cell_type": "markdown",
   "id": "e991cbcb",
   "metadata": {},
   "source": [
    "**1.** count the number of males and females"
   ]
  },
  {
   "cell_type": "code",
   "execution_count": 7,
   "id": "e3c5a450",
   "metadata": {},
   "outputs": [
    {
     "name": "stdout",
     "output_type": "stream",
     "text": [
      "Number of males: 482\n",
      "Number of females: 518\n"
     ]
    }
   ],
   "source": [
    "gender_counts = data['gender'].value_counts()\n",
    "print(\"Number of males:\", gender_counts['male'])\n",
    "print(\"Number of females:\", gender_counts['female'])"
   ]
  },
  {
   "cell_type": "markdown",
   "id": "c6023467",
   "metadata": {},
   "source": [
    "**2.** Analyze parental level of education"
   ]
  },
  {
   "cell_type": "code",
   "execution_count": 9,
   "id": "bb162416",
   "metadata": {},
   "outputs": [
    {
     "name": "stdout",
     "output_type": "stream",
     "text": [
      "\n",
      "Parental Level of Education:\n",
      "some college          226\n",
      "associate's degree    222\n",
      "high school           196\n",
      "some high school      179\n",
      "bachelor's degree     118\n",
      "master's degree        59\n",
      "Name: parental level of education, dtype: int64\n"
     ]
    }
   ],
   "source": [
    "parental_education_counts = data['parental level of education'].value_counts()\n",
    "print(\"\\nParental Level of Education:\")\n",
    "print(parental_education_counts)"
   ]
  },
  {
   "cell_type": "markdown",
   "id": "fe5729c7",
   "metadata": {},
   "source": [
    "**3.** Calculate average scores based on gender and test preparation course"
   ]
  },
  {
   "cell_type": "code",
   "execution_count": 10,
   "id": "8085fe04",
   "metadata": {},
   "outputs": [
    {
     "name": "stdout",
     "output_type": "stream",
     "text": [
      "\n",
      "Average scores based on Gender:\n",
      "        math score  reading score  writing score\n",
      "gender                                          \n",
      "female   63.376448      72.590734      72.467181\n",
      "male     68.821577      65.545643      63.446058\n",
      "\n",
      "Average scores based on Test Preparation Course:\n",
      "                         math score  reading score  writing score\n",
      "test preparation course                                          \n",
      "completed                  69.96648      74.175978      74.684358\n",
      "none                       63.78972      66.417445      64.457944\n"
     ]
    }
   ],
   "source": [
    "grouped_gender = data.groupby('gender')\n",
    "grouped_prep_course = data.groupby('test preparation course')\n",
    "\n",
    "average_scores_gender = grouped_gender[['math score', 'reading score', 'writing score']].mean()\n",
    "average_scores_prep_course = grouped_prep_course[['math score', 'reading score', 'writing score']].mean()\n",
    "\n",
    "print(\"\\nAverage scores based on Gender:\")\n",
    "print(average_scores_gender)\n",
    "\n",
    "print(\"\\nAverage scores based on Test Preparation Course:\")\n",
    "print(average_scores_prep_course)\n"
   ]
  },
  {
   "cell_type": "markdown",
   "id": "35478623",
   "metadata": {},
   "source": [
    "**4.**Calculate variation (standard deviation) based on gender and test preparation course"
   ]
  },
  {
   "cell_type": "code",
   "execution_count": 11,
   "id": "f0b12027",
   "metadata": {},
   "outputs": [
    {
     "name": "stdout",
     "output_type": "stream",
     "text": [
      "\n",
      "Standard deviation of scores based on Gender:\n",
      "        math score  reading score  writing score\n",
      "gender                                          \n",
      "female   16.029928      14.411018      14.844842\n",
      "male     14.556411      14.149594      14.227225\n",
      "\n",
      "Standard deviation of scores based on Test Preparation Course:\n",
      "                         math score  reading score  writing score\n",
      "test preparation course                                          \n",
      "completed                 14.521847      13.537572      13.236412\n",
      "none                      15.705689      14.608896      15.041667\n"
     ]
    }
   ],
   "source": [
    "std_scores_gender = grouped_gender[['math score', 'reading score', 'writing score']].std()\n",
    "std_scores_prep_course = grouped_prep_course[['math score', 'reading score', 'writing score']].std()\n",
    "\n",
    "print(\"\\nStandard deviation of scores based on Gender:\")\n",
    "print(std_scores_gender)\n",
    "\n",
    "print(\"\\nStandard deviation of scores based on Test Preparation Course:\")\n",
    "print(std_scores_prep_course)"
   ]
  },
  {
   "cell_type": "markdown",
   "id": "ac58e8aa",
   "metadata": {},
   "source": [
    "**5.** Calculate bonus points for the top 25% of students based on math score"
   ]
  },
  {
   "cell_type": "code",
   "execution_count": 14,
   "id": "17fbdb57",
   "metadata": {},
   "outputs": [],
   "source": [
    "math_scores = data['math score']\n",
    "top_25_percentile = math_scores.quantile(0.75)\n",
    "top_students = data[data['math score'] > top_25_percentile]"
   ]
  },
  {
   "cell_type": "code",
   "execution_count": 15,
   "id": "ce4c265c",
   "metadata": {},
   "outputs": [
    {
     "name": "stdout",
     "output_type": "stream",
     "text": [
      "\n",
      "Top students (based on math score):\n",
      "     gender race/ethnicity parental level of education         lunch  \\\n",
      "430  female        group A                some college      standard   \n",
      "431  female        group B           bachelor's degree  free/reduced   \n",
      "432  female        group D           bachelor's degree      standard   \n",
      "433  female        group D                 high school      standard   \n",
      "434  female        group D           bachelor's degree  free/reduced   \n",
      "..      ...            ...                         ...           ...   \n",
      "995    male        group E                some college      standard   \n",
      "996    male        group A                some college      standard   \n",
      "997    male        group D                some college      standard   \n",
      "998    male        group E          associate's degree  free/reduced   \n",
      "999    male        group E           bachelor's degree      standard   \n",
      "\n",
      "    test preparation course  math score  reading score  writing score  \n",
      "430               completed          78             87             91  \n",
      "431                    none          78             79             76  \n",
      "432                    none          78             82             79  \n",
      "433                    none          78             81             80  \n",
      "434                    none          78             90             93  \n",
      "..                      ...         ...            ...            ...  \n",
      "995               completed          99             87             81  \n",
      "996               completed         100             96             86  \n",
      "997               completed         100             97             99  \n",
      "998               completed         100            100             93  \n",
      "999               completed         100            100            100  \n",
      "\n",
      "[231 rows x 8 columns]\n"
     ]
    }
   ],
   "source": [
    "print(\"\\nTop students (based on math score):\")\n",
    "print(top_students)"
   ]
  },
  {
   "cell_type": "code",
   "execution_count": null,
   "id": "9ffb44fa",
   "metadata": {},
   "outputs": [],
   "source": []
  }
 ],
 "metadata": {
  "kernelspec": {
   "display_name": "Python 3 (ipykernel)",
   "language": "python",
   "name": "python3"
  },
  "language_info": {
   "codemirror_mode": {
    "name": "ipython",
    "version": 3
   },
   "file_extension": ".py",
   "mimetype": "text/x-python",
   "name": "python",
   "nbconvert_exporter": "python",
   "pygments_lexer": "ipython3",
   "version": "3.9.12"
  }
 },
 "nbformat": 4,
 "nbformat_minor": 5
}
