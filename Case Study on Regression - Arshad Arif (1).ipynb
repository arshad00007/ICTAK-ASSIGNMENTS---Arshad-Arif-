{
 "cells": [
  {
   "cell_type": "markdown",
   "id": "c763bfd8",
   "metadata": {},
   "source": [
    "****The given dataset contains price of second-hand Hyundai grand i10 car with \n",
    "respect to year of making. Find the best linear relationship between year and \n",
    "price. Can you predict the possible price of a 2022 model second-hand grand i10?\n",
    "Please learn about lasso regression and create a model along with linear\n",
    "regression. Find out which one is performing better.****"
   ]
  },
  {
   "cell_type": "code",
   "execution_count": 1,
   "id": "9b09ca12",
   "metadata": {},
   "outputs": [],
   "source": [
    "import pandas as pd\n",
    "from sklearn.model_selection import train_test_split\n",
    "from sklearn.linear_model import LinearRegression, Lasso\n",
    "from sklearn.metrics import mean_squared_error, r2_score\n",
    "\n",
    "import requests\n",
    "from io import StringIO"
   ]
  },
  {
   "cell_type": "code",
   "execution_count": 2,
   "id": "a2987d9f",
   "metadata": {},
   "outputs": [],
   "source": [
    "url = 'car_age_price.csv'"
   ]
  },
  {
   "cell_type": "code",
   "execution_count": 3,
   "id": "bf00e254",
   "metadata": {},
   "outputs": [],
   "source": [
    "df = pd.read_csv(url)"
   ]
  },
  {
   "cell_type": "code",
   "execution_count": 5,
   "id": "12a429e9",
   "metadata": {},
   "outputs": [
    {
     "data": {
      "text/html": [
       "<div>\n",
       "<style scoped>\n",
       "    .dataframe tbody tr th:only-of-type {\n",
       "        vertical-align: middle;\n",
       "    }\n",
       "\n",
       "    .dataframe tbody tr th {\n",
       "        vertical-align: top;\n",
       "    }\n",
       "\n",
       "    .dataframe thead th {\n",
       "        text-align: right;\n",
       "    }\n",
       "</style>\n",
       "<table border=\"1\" class=\"dataframe\">\n",
       "  <thead>\n",
       "    <tr style=\"text-align: right;\">\n",
       "      <th></th>\n",
       "      <th>Year</th>\n",
       "      <th>Price</th>\n",
       "    </tr>\n",
       "  </thead>\n",
       "  <tbody>\n",
       "    <tr>\n",
       "      <th>0</th>\n",
       "      <td>2018</td>\n",
       "      <td>465000</td>\n",
       "    </tr>\n",
       "    <tr>\n",
       "      <th>1</th>\n",
       "      <td>2019</td>\n",
       "      <td>755000</td>\n",
       "    </tr>\n",
       "    <tr>\n",
       "      <th>2</th>\n",
       "      <td>2019</td>\n",
       "      <td>700000</td>\n",
       "    </tr>\n",
       "    <tr>\n",
       "      <th>3</th>\n",
       "      <td>2018</td>\n",
       "      <td>465000</td>\n",
       "    </tr>\n",
       "    <tr>\n",
       "      <th>4</th>\n",
       "      <td>2018</td>\n",
       "      <td>465000</td>\n",
       "    </tr>\n",
       "  </tbody>\n",
       "</table>\n",
       "</div>"
      ],
      "text/plain": [
       "   Year   Price\n",
       "0  2018  465000\n",
       "1  2019  755000\n",
       "2  2019  700000\n",
       "3  2018  465000\n",
       "4  2018  465000"
      ]
     },
     "execution_count": 5,
     "metadata": {},
     "output_type": "execute_result"
    }
   ],
   "source": [
    "df.head()"
   ]
  },
  {
   "cell_type": "code",
   "execution_count": 6,
   "id": "e14b6675",
   "metadata": {},
   "outputs": [],
   "source": [
    "# Prepare the data\n",
    "\n",
    "X = df[['Year']].values\n",
    "y = df['Price'].values"
   ]
  },
  {
   "cell_type": "code",
   "execution_count": 7,
   "id": "de5912d9",
   "metadata": {},
   "outputs": [],
   "source": [
    "# Split the data into training and test sets\n",
    "\n",
    "X_train, X_test, y_train, y_test = train_test_split(X, y, test_size=0.2, random_state=42)"
   ]
  },
  {
   "cell_type": "code",
   "execution_count": 8,
   "id": "062bae41",
   "metadata": {},
   "outputs": [],
   "source": [
    "# Create a linear regression model\n",
    "\n",
    "linear_reg = LinearRegression()"
   ]
  },
  {
   "cell_type": "code",
   "execution_count": 9,
   "id": "ac4c5e60",
   "metadata": {},
   "outputs": [
    {
     "data": {
      "text/plain": [
       "LinearRegression()"
      ]
     },
     "execution_count": 9,
     "metadata": {},
     "output_type": "execute_result"
    }
   ],
   "source": [
    "# Train the model\n",
    "\n",
    "linear_reg.fit(X_train, y_train)"
   ]
  },
  {
   "cell_type": "code",
   "execution_count": 10,
   "id": "6c97836d",
   "metadata": {},
   "outputs": [],
   "source": [
    "# Make predictions\n",
    "\n",
    "y_pred = linear_reg.predict(X_test)"
   ]
  },
  {
   "cell_type": "code",
   "execution_count": 11,
   "id": "6269b985",
   "metadata": {},
   "outputs": [
    {
     "name": "stdout",
     "output_type": "stream",
     "text": [
      "Linear Regression MSE: 4326906256.829671\n"
     ]
    }
   ],
   "source": [
    "# Calculate the mean squared error (MSE)\n",
    "\n",
    "mse = mean_squared_error(y_test, y_pred)\n",
    "print(\"Linear Regression MSE:\", mse)"
   ]
  },
  {
   "cell_type": "code",
   "execution_count": 12,
   "id": "32a01522",
   "metadata": {},
   "outputs": [],
   "source": [
    "from sklearn.linear_model import Lasso\n",
    "from sklearn.preprocessing import StandardScaler"
   ]
  },
  {
   "cell_type": "code",
   "execution_count": 13,
   "id": "adc0cb23",
   "metadata": {},
   "outputs": [],
   "source": [
    "# Scale the features\n",
    "\n",
    "scaler = StandardScaler()\n",
    "X_scaled = scaler.fit_transform(X)"
   ]
  },
  {
   "cell_type": "code",
   "execution_count": 14,
   "id": "96fe0999",
   "metadata": {},
   "outputs": [],
   "source": [
    "# Split the scaled data into training and test sets\n",
    "\n",
    "X_train_scaled, X_test_scaled, y_train, y_test = train_test_split(X_scaled, y, test_size=0.2, random_state=42)"
   ]
  },
  {
   "cell_type": "code",
   "execution_count": 15,
   "id": "84ab86d6",
   "metadata": {},
   "outputs": [],
   "source": [
    "# Create a Lasso regression model\n",
    "\n",
    "lasso_reg = Lasso(alpha=0.1)  # You can experiment with different values of alpha"
   ]
  },
  {
   "cell_type": "code",
   "execution_count": 16,
   "id": "f7a98efd",
   "metadata": {},
   "outputs": [
    {
     "data": {
      "text/plain": [
       "Lasso(alpha=0.1)"
      ]
     },
     "execution_count": 16,
     "metadata": {},
     "output_type": "execute_result"
    }
   ],
   "source": [
    "\n",
    "# Train the model\n",
    "\n",
    "lasso_reg.fit(X_train_scaled, y_train)"
   ]
  },
  {
   "cell_type": "code",
   "execution_count": 17,
   "id": "d6c2a64e",
   "metadata": {},
   "outputs": [],
   "source": [
    "# Make predictions\n",
    "\n",
    "y_pred_lasso = lasso_reg.predict(X_test_scaled)"
   ]
  },
  {
   "cell_type": "code",
   "execution_count": 18,
   "id": "e16ede3f",
   "metadata": {},
   "outputs": [
    {
     "name": "stdout",
     "output_type": "stream",
     "text": [
      "Lasso Regression MSE: 4326898715.2436075\n"
     ]
    }
   ],
   "source": [
    "# Calculate the mean squared error (MSE)\n",
    "\n",
    "mse_lasso = mean_squared_error(y_test, y_pred_lasso)\n",
    "print(\"Lasso Regression MSE:\", mse_lasso)"
   ]
  },
  {
   "cell_type": "markdown",
   "id": "09aaf626",
   "metadata": {},
   "source": [
    "**To predict the possible price of a 2022 model second-hand grand i10:**"
   ]
  },
  {
   "cell_type": "markdown",
   "id": "d75f7d89",
   "metadata": {},
   "source": [
    "using the chosen model (linear regression or Lasso regression), we can follow these steps:"
   ]
  },
  {
   "cell_type": "code",
   "execution_count": 19,
   "id": "250d8561",
   "metadata": {},
   "outputs": [],
   "source": [
    "import numpy as np"
   ]
  },
  {
   "cell_type": "code",
   "execution_count": 20,
   "id": "f437242d",
   "metadata": {},
   "outputs": [],
   "source": [
    "# Create a new X_test with the year 2022\n",
    "\n",
    "X_test_2022 = np.array([[2022]])"
   ]
  },
  {
   "cell_type": "code",
   "execution_count": 21,
   "id": "0f84a006",
   "metadata": {},
   "outputs": [],
   "source": [
    "# Scale the X_test_2022 using the same scaler used for Lasso regression\n",
    "\n",
    "X_test_2022_scaled = scaler.transform(X_test_2022)"
   ]
  },
  {
   "cell_type": "code",
   "execution_count": 24,
   "id": "3a9fd71f",
   "metadata": {},
   "outputs": [],
   "source": [
    "# Predict the price using the chosen model\n",
    "\n",
    "predicted_price = linear_reg.predict(X_test_2022)  # Use either linear_reg or lasso_reg"
   ]
  },
  {
   "cell_type": "code",
   "execution_count": 25,
   "id": "31ef3495",
   "metadata": {},
   "outputs": [
    {
     "name": "stdout",
     "output_type": "stream",
     "text": [
      "Predicted Price for a 2022 Model: 743601.6159450412\n"
     ]
    }
   ],
   "source": [
    "print(\"Predicted Price for a 2022 Model:\", predicted_price[0])"
   ]
  },
  {
   "cell_type": "code",
   "execution_count": null,
   "id": "163303b4",
   "metadata": {},
   "outputs": [],
   "source": []
  }
 ],
 "metadata": {
  "kernelspec": {
   "display_name": "Python 3 (ipykernel)",
   "language": "python",
   "name": "python3"
  },
  "language_info": {
   "codemirror_mode": {
    "name": "ipython",
    "version": 3
   },
   "file_extension": ".py",
   "mimetype": "text/x-python",
   "name": "python",
   "nbconvert_exporter": "python",
   "pygments_lexer": "ipython3",
   "version": "3.9.12"
  }
 },
 "nbformat": 4,
 "nbformat_minor": 5
}
